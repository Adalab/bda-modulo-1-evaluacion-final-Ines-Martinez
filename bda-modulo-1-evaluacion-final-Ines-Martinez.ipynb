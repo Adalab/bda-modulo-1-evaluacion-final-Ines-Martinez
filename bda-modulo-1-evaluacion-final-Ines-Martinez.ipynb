{
 "cells": [
  {
   "cell_type": "code",
   "execution_count": null,
   "id": "b9b5a296",
   "metadata": {},
   "outputs": [],
   "source": [
    "# 1-Creo una lista vacía-lista de diccionarios para introducir dentro de cada diccionario los atributos de cada clave-valor\n",
    "#  Puedo acceder a la información específica utilizando claves como \"nombre\", \"precio\", \"cantidad\"."
   ]
  },
  {
   "cell_type": "code",
   "execution_count": 3,
   "id": "34798e18",
   "metadata": {},
   "outputs": [],
   "source": [
    "inventario = []  # Creo una lista de diccionarios"
   ]
  },
  {
   "cell_type": "code",
   "execution_count": null,
   "id": "b9617bb7",
   "metadata": {},
   "outputs": [],
   "source": [
    "# 2-Creo un diccionario de diccionarios\n",
    "# Así podré introducir los datos de los clientes"
   ]
  },
  {
   "cell_type": "code",
   "execution_count": 4,
   "id": "4315d381",
   "metadata": {},
   "outputs": [],
   "source": [
    "registro_clientes = {}  #Creo un diccionario vacío"
   ]
  },
  {
   "cell_type": "code",
   "execution_count": null,
   "id": "045847bc",
   "metadata": {},
   "outputs": [],
   "source": [
    "3-# Ventas totales - (float-para poder introducir decimales en las ganancias totales, relativas a las ventas)"
   ]
  },
  {
   "cell_type": "code",
   "execution_count": 5,
   "id": "fbaa8791",
   "metadata": {},
   "outputs": [],
   "source": [
    "ventas_totales = 0.0"
   ]
  },
  {
   "cell_type": "code",
   "execution_count": null,
   "id": "b85b3c99",
   "metadata": {},
   "outputs": [],
   "source": [
    "3-1 # Agregamos producto al inventario. Incluimos el nombre, precio y la cantidad.\n",
    "    # Actualizar la cantidad y, si no existe, agrega uno nuevo\n"
   ]
  },
  {
   "cell_type": "code",
   "execution_count": 6,
   "id": "a5961ca4",
   "metadata": {},
   "outputs": [],
   "source": [
    "def agregar_referencia(nombre, precio, cantidad):  # Creamos una función a la que le introduciremos el nombre, el precio y la cantidad almacenada\n",
    "    encontrado = False  # Si la nueva entrada no está, devolverá un False.\n",
    "    if nombre in inventario: # Si está el nombre del artículo, actualiza la cantidad de artículos vendidos\n",
    "            for i in inventario:\n",
    "                if i[\"nombre\"] == nombre: # Si el nombre coincide plenamente con el nombre del libro\n",
    "                    i[\"cantidad\"] += cantidad # Actualiza la cantidad\n",
    "                    encontrado = True\n",
    "                    break   # Si el nombre coincide, se para el bucle\n",
    "    else:\n",
    "        inventario.append({\"nombre\": nombre.lower(), \"precio\": precio, \"cantidad\": cantidad}) # Si no, añádele al inventario la nueva entrada con el nombre, el precio y la cantidad. \n",
    "    return encontrado # Guarda y devuelve el mensaje de que el ejemplar ha sido encontrado.\n",
    "\n",
    "\n"
   ]
  },
  {
   "cell_type": "code",
   "execution_count": 7,
   "id": "0c0dec14",
   "metadata": {},
   "outputs": [
    {
     "data": {
      "text/plain": [
       "False"
      ]
     },
     "execution_count": 7,
     "metadata": {},
     "output_type": "execute_result"
    }
   ],
   "source": [
    "agregar_referencia(\"Cómo llegar joven a viejo\", 19.85, 25) # Para introducir referencias en la lista de diccionarios\n",
    "agregar_referencia(\"The Secret of Secrets\", 34.90, 50)\n",
    "agregar_referencia(\"Inquebrantable\", 19.85, 18), \n",
    "agregar_referencia(\"The Secret of Secrets\", 34.90, 50)\n",
    "agregar_referencia(\"Hábitos atómicos\", 18.90, 30)\n",
    "agregar_referencia(\"La última carta\",18.90, 35)\n",
    "agregar_referencia(\"La última carta\",18.90, 35)\n",
    "agregar_referencia(\"Solas en el silencio\", 19.85, 250)\n",
    "agregar_referencia(\"El plan maestro\", 21.75, 175)"
   ]
  },
  {
   "cell_type": "code",
   "execution_count": 8,
   "id": "faa5013b",
   "metadata": {},
   "outputs": [
    {
     "data": {
      "text/plain": [
       "[{'nombre': 'cómo llegar joven a viejo', 'precio': 19.85, 'cantidad': 25},\n",
       " {'nombre': 'the secret of secrets', 'precio': 34.9, 'cantidad': 50},\n",
       " {'nombre': 'inquebrantable', 'precio': 19.85, 'cantidad': 18},\n",
       " {'nombre': 'the secret of secrets', 'precio': 34.9, 'cantidad': 50},\n",
       " {'nombre': 'hábitos atómicos', 'precio': 18.9, 'cantidad': 30},\n",
       " {'nombre': 'la última carta', 'precio': 18.9, 'cantidad': 35},\n",
       " {'nombre': 'la última carta', 'precio': 18.9, 'cantidad': 35},\n",
       " {'nombre': 'solas en el silencio', 'precio': 19.85, 'cantidad': 250},\n",
       " {'nombre': 'el plan maestro', 'precio': 21.75, 'cantidad': 175}]"
      ]
     },
     "execution_count": 8,
     "metadata": {},
     "output_type": "execute_result"
    }
   ],
   "source": [
    "inventario"
   ]
  },
  {
   "cell_type": "code",
   "execution_count": null,
   "id": "2a86a06b",
   "metadata": {},
   "outputs": [],
   "source": [
    "3-2 # Itera a través del inventario y compara los nombres de los productos con el nombre proporcionado\n"
   ]
  },
  {
   "cell_type": "code",
   "execution_count": 9,
   "id": "f6154088",
   "metadata": {},
   "outputs": [],
   "source": [
    "def consultar_inventario(): # Sacamos una lista de todas las entradas del inventario para acceder a la información específicica de cada elemento\n",
    "    for libro in inventario: \n",
    "        print(f\"Nombre: {libro['nombre']}, Precio: {libro['precio']} €, Cantidad: {libro['cantidad']}\") # Vemos la información detallada de cada producto"
   ]
  },
  {
   "cell_type": "code",
   "execution_count": 10,
   "id": "6802ffb4",
   "metadata": {},
   "outputs": [],
   "source": [
    "catalogo_inventario = [{\"Cómo llegar joven a viejo\", 19.85, 25}, {\"The Secret of Secrets\", 34.90, 50}, {\"Inquebrantable\", 19.85, 18}]"
   ]
  },
  {
   "cell_type": "code",
   "execution_count": 11,
   "id": "6a7240b7",
   "metadata": {},
   "outputs": [
    {
     "name": "stdout",
     "output_type": "stream",
     "text": [
      "[{25, 19.85, 'Cómo llegar joven a viejo'}, {34.9, 50, 'The Secret of Secrets'}, {'Inquebrantable', 18, 19.85}]\n"
     ]
    }
   ],
   "source": [
    "print(catalogo_inventario)"
   ]
  },
  {
   "cell_type": "code",
   "execution_count": null,
   "id": "63da5d50",
   "metadata": {},
   "outputs": [],
   "source": [
    "3-# Busca un producto en el inventario por su nombre y muestra sus detalles si se encuentra"
   ]
  },
  {
   "cell_type": "code",
   "execution_count": 24,
   "id": "865837dc",
   "metadata": {},
   "outputs": [],
   "source": [
    "def buscar_libro(nombre_buscar):\n",
    "    for libro in inventario:\n",
    "        if libro[\"nombre\"] == nombre_buscar:  \n",
    "            print(f\"nombre: {libro[\"nombre\"]}, {libro[\"precio\"]} euros, {libro[\"cantidad\"]} ejemplares\")\n",
    "            break\n",
    "    else:\n",
    "        print(f\"El libro {nombre_buscar} no se encontró en el inventario.\")\n",
    "                "
   ]
  },
  {
   "cell_type": "code",
   "execution_count": 25,
   "id": "998d3c76",
   "metadata": {},
   "outputs": [
    {
     "name": "stdout",
     "output_type": "stream",
     "text": [
      "El libro Cómo llegar joven a viejo no se encontró en el inventario.\n",
      "El libro Comer sano no se encontró en el inventario.\n",
      "nombre: inquebrantable, 19.85 euros, 18 ejemplares\n"
     ]
    }
   ],
   "source": [
    "buscar_libro(\"Cómo llegar joven a viejo\")\n",
    "buscar_libro(\"Comer sano\")\n",
    "buscar_libro(\"inquebrantable\")"
   ]
  },
  {
   "cell_type": "code",
   "execution_count": null,
   "id": "3edf8fa2",
   "metadata": {},
   "outputs": [],
   "source": [
    "# 4-Actualizar stock (nombre, cantidad):\n"
   ]
  },
  {
   "cell_type": "code",
   "execution_count": null,
   "id": "0b26749c",
   "metadata": {},
   "outputs": [],
   "source": [
    "def actualizar_stock(nombre_producto, cantidad):\n",
    "    for libro in inventario: \n",
    "        if libro[\"nombre\"] == nombre_producto:\n",
    "            libro[\"cantidad\"] += cantidad\n",
    "            break\n",
    "    \n",
    "    else:\n",
    "        print(f\"El producto '{nombre_producto}' no está disponible.\")"
   ]
  },
  {
   "cell_type": "code",
   "execution_count": 30,
   "id": "676fd22c",
   "metadata": {},
   "outputs": [
    {
     "data": {
      "text/plain": [
       "[{'nombre': 'cómo llegar joven a viejo', 'precio': 19.85, 'cantidad': 25},\n",
       " {'nombre': 'the secret of secrets', 'precio': 34.9, 'cantidad': 50},\n",
       " {'nombre': 'inquebrantable', 'precio': 19.85, 'cantidad': 18},\n",
       " {'nombre': 'the secret of secrets', 'precio': 34.9, 'cantidad': 50},\n",
       " {'nombre': 'hábitos atómicos', 'precio': 18.9, 'cantidad': 30},\n",
       " {'nombre': 'la última carta', 'precio': 18.9, 'cantidad': 35},\n",
       " {'nombre': 'la última carta', 'precio': 18.9, 'cantidad': 35},\n",
       " {'nombre': 'solas en el silencio', 'precio': 19.85, 'cantidad': 250},\n",
       " {'nombre': 'el plan maestro', 'precio': 21.75, 'cantidad': 175}]"
      ]
     },
     "execution_count": 30,
     "metadata": {},
     "output_type": "execute_result"
    }
   ],
   "source": [
    "inventario"
   ]
  },
  {
   "cell_type": "code",
   "execution_count": 31,
   "id": "a2966654",
   "metadata": {},
   "outputs": [],
   "source": [
    "actualizar_stock(\"hábitos atómicos\", 10)"
   ]
  },
  {
   "cell_type": "code",
   "execution_count": 33,
   "id": "ceeb0c48",
   "metadata": {},
   "outputs": [
    {
     "data": {
      "text/plain": [
       "[{'nombre': 'cómo llegar joven a viejo', 'precio': 19.85, 'cantidad': 25},\n",
       " {'nombre': 'the secret of secrets', 'precio': 34.9, 'cantidad': 50},\n",
       " {'nombre': 'inquebrantable', 'precio': 19.85, 'cantidad': 18},\n",
       " {'nombre': 'the secret of secrets', 'precio': 34.9, 'cantidad': 50},\n",
       " {'nombre': 'hábitos atómicos', 'precio': 18.9, 'cantidad': 40},\n",
       " {'nombre': 'la última carta', 'precio': 18.9, 'cantidad': 35},\n",
       " {'nombre': 'la última carta', 'precio': 18.9, 'cantidad': 35},\n",
       " {'nombre': 'solas en el silencio', 'precio': 19.85, 'cantidad': 250},\n",
       " {'nombre': 'el plan maestro', 'precio': 21.75, 'cantidad': 175}]"
      ]
     },
     "execution_count": 33,
     "metadata": {},
     "output_type": "execute_result"
    }
   ],
   "source": [
    "inventario"
   ]
  },
  {
   "cell_type": "code",
   "execution_count": null,
   "id": "98af7787",
   "metadata": {},
   "outputs": [],
   "source": [
    "5- # eliminar producto(nombre)"
   ]
  },
  {
   "cell_type": "code",
   "execution_count": 34,
   "id": "71b06bdf",
   "metadata": {},
   "outputs": [],
   "source": [
    "def eliminar_producto(nombre_producto):\n",
    "        for libro in inventario:\n",
    "                if libro[\"nombre\"] == nombre_producto:\n",
    "                        inventario.remove(libro)\n",
    "                        return f\"El producto {nombre_producto} ha sido eliminado con éxito.\"\n",
    "        else:\n",
    "                print(f\"{nombre_producto} no se puede eliminar, porque no existe en el inventario\")"
   ]
  },
  {
   "cell_type": "code",
   "execution_count": 36,
   "id": "315f012d",
   "metadata": {},
   "outputs": [
    {
     "name": "stdout",
     "output_type": "stream",
     "text": [
      "La estrella más brillante no se puede eliminar, porque no existe en el inventario\n"
     ]
    },
    {
     "data": {
      "text/plain": [
       "'El producto hábitos atómicos ha sido eliminado con éxito.'"
      ]
     },
     "execution_count": 36,
     "metadata": {},
     "output_type": "execute_result"
    }
   ],
   "source": [
    "eliminar_producto(\"La estrella más brillante\")\n",
    "eliminar_producto(\"hábitos atómicos\")"
   ]
  },
  {
   "cell_type": "code",
   "execution_count": 38,
   "id": "33599a95",
   "metadata": {},
   "outputs": [
    {
     "data": {
      "text/plain": [
       "[{'nombre': 'cómo llegar joven a viejo', 'precio': 19.85, 'cantidad': 25},\n",
       " {'nombre': 'the secret of secrets', 'precio': 34.9, 'cantidad': 50},\n",
       " {'nombre': 'inquebrantable', 'precio': 19.85, 'cantidad': 18},\n",
       " {'nombre': 'the secret of secrets', 'precio': 34.9, 'cantidad': 50},\n",
       " {'nombre': 'la última carta', 'precio': 18.9, 'cantidad': 35},\n",
       " {'nombre': 'la última carta', 'precio': 18.9, 'cantidad': 35},\n",
       " {'nombre': 'solas en el silencio', 'precio': 19.85, 'cantidad': 250},\n",
       " {'nombre': 'el plan maestro', 'precio': 21.75, 'cantidad': 175}]"
      ]
     },
     "execution_count": 38,
     "metadata": {},
     "output_type": "execute_result"
    }
   ],
   "source": [
    "inventario"
   ]
  },
  {
   "cell_type": "code",
   "execution_count": 39,
   "id": "1a4b6216",
   "metadata": {},
   "outputs": [
    {
     "name": "stdout",
     "output_type": "stream",
     "text": [
      "Cómo llegar joven a viejo no se puede eliminar, porque no existe en el inventario\n"
     ]
    }
   ],
   "source": [
    "eliminar_producto(\"Cómo llegar joven a viejo\")"
   ]
  },
  {
   "cell_type": "code",
   "execution_count": 41,
   "id": "09cd49f9",
   "metadata": {},
   "outputs": [
    {
     "data": {
      "text/plain": [
       "'El producto la última carta ha sido eliminado con éxito.'"
      ]
     },
     "execution_count": 41,
     "metadata": {},
     "output_type": "execute_result"
    }
   ],
   "source": [
    "eliminar_producto(\"la última carta\")"
   ]
  },
  {
   "cell_type": "code",
   "execution_count": 42,
   "id": "9e5ad60e",
   "metadata": {},
   "outputs": [
    {
     "name": "stdout",
     "output_type": "stream",
     "text": [
      "[{'nombre': 'cómo llegar joven a viejo', 'precio': 19.85, 'cantidad': 25}, {'nombre': 'the secret of secrets', 'precio': 34.9, 'cantidad': 50}, {'nombre': 'inquebrantable', 'precio': 19.85, 'cantidad': 18}, {'nombre': 'the secret of secrets', 'precio': 34.9, 'cantidad': 50}, {'nombre': 'la última carta', 'precio': 18.9, 'cantidad': 35}, {'nombre': 'solas en el silencio', 'precio': 19.85, 'cantidad': 250}, {'nombre': 'el plan maestro', 'precio': 21.75, 'cantidad': 175}]\n"
     ]
    }
   ],
   "source": [
    "print(inventario)"
   ]
  },
  {
   "cell_type": "code",
   "execution_count": 26,
   "id": "6f873bd9",
   "metadata": {},
   "outputs": [],
   "source": [
    "# 6-calcular_valor_inventario"
   ]
  },
  {
   "cell_type": "code",
   "execution_count": 44,
   "id": "ee53e417",
   "metadata": {},
   "outputs": [],
   "source": [
    "def calcular_coste_inventario(inventario):\n",
    "    coste_total_inventario = 0.0\n",
    "    for libro in inventario:\n",
    "        coste = libro [\"cantidad\"] * libro [\"precio\"]\n",
    "        coste_total_inventario += coste\n",
    "    return f\"El coste total del inventario asciende a {coste_total_inventario:.2f} euros.\"\n",
    "\n"
   ]
  },
  {
   "cell_type": "code",
   "execution_count": 45,
   "id": "601f288c",
   "metadata": {},
   "outputs": [
    {
     "name": "stdout",
     "output_type": "stream",
     "text": [
      "El coste total del inventario asciende a 13773.80 euros.\n"
     ]
    }
   ],
   "source": [
    "print(calcular_coste_inventario(inventario))"
   ]
  },
  {
   "cell_type": "code",
   "execution_count": 46,
   "id": "5e23aff8",
   "metadata": {},
   "outputs": [
    {
     "data": {
      "text/plain": [
       "[{'nombre': 'cómo llegar joven a viejo', 'precio': 19.85, 'cantidad': 25},\n",
       " {'nombre': 'the secret of secrets', 'precio': 34.9, 'cantidad': 50},\n",
       " {'nombre': 'inquebrantable', 'precio': 19.85, 'cantidad': 18},\n",
       " {'nombre': 'the secret of secrets', 'precio': 34.9, 'cantidad': 50},\n",
       " {'nombre': 'la última carta', 'precio': 18.9, 'cantidad': 35},\n",
       " {'nombre': 'solas en el silencio', 'precio': 19.85, 'cantidad': 250},\n",
       " {'nombre': 'el plan maestro', 'precio': 21.75, 'cantidad': 175}]"
      ]
     },
     "execution_count": 46,
     "metadata": {},
     "output_type": "execute_result"
    }
   ],
   "source": [
    "inventario"
   ]
  },
  {
   "cell_type": "code",
   "execution_count": null,
   "id": "bd1f693e",
   "metadata": {},
   "outputs": [],
   "source": [
    "# 7-Realizar compra"
   ]
  },
  {
   "cell_type": "code",
   "execution_count": 47,
   "id": "2380c418",
   "metadata": {},
   "outputs": [
    {
     "name": "stdout",
     "output_type": "stream",
     "text": [
      "Nombre: cómo llegar joven a viejo, Precio: 19.85 €, Cantidad: 25\n",
      "Nombre: the secret of secrets, Precio: 34.9 €, Cantidad: 50\n",
      "Nombre: inquebrantable, Precio: 19.85 €, Cantidad: 18\n",
      "Nombre: the secret of secrets, Precio: 34.9 €, Cantidad: 50\n",
      "Nombre: la última carta, Precio: 18.9 €, Cantidad: 35\n",
      "Nombre: solas en el silencio, Precio: 19.85 €, Cantidad: 250\n",
      "Nombre: el plan maestro, Precio: 21.75 €, Cantidad: 175\n"
     ]
    }
   ],
   "source": [
    "consultar_inventario()"
   ]
  },
  {
   "cell_type": "code",
   "execution_count": 48,
   "id": "9883dd74",
   "metadata": {},
   "outputs": [
    {
     "name": "stdout",
     "output_type": "stream",
     "text": [
      "--- Inventario Disponible ---\n"
     ]
    }
   ],
   "source": [
    "print(\"--- Inventario Disponible ---\")"
   ]
  },
  {
   "cell_type": "code",
   "execution_count": null,
   "id": "cff241bf",
   "metadata": {},
   "outputs": [],
   "source": []
  },
  {
   "cell_type": "code",
   "execution_count": null,
   "id": "75f2b504",
   "metadata": {},
   "outputs": [],
   "source": [
    "# Realizar compra\n",
    "# Permite al usuario realizar una compra interactiva, mostrando el inventario\n",
    "# permite agregar productos al carrito. \n",
    "\n",
    "# Primero defino la función: Realizar compra\n",
    "\n",
    "def realizar_compra():\n",
    "            \n",
    "    carrito = {} # Creamos un carrito vacío\n",
    "    consultar_inventario()\n",
    "    compra = input(\"Introduzca el título del libro que quiere comprar o 'fin' para terminar: \").lower().strip()\n",
    "    while compra in inventario:\n",
    "              if compra:\n",
    "                cantidad = int(input(f\"Introduzca el número de ejemplares del '{compra}' que desea comprar: \").strip()) \n",
    "                if compra[cantidad]>= cantidad:\n",
    "                    if compra in carrito: # Verifica el nombre del libro\n",
    "                        carrito[compra] += cantidad # Si el libro está en el carrito actualiza la cantidad existente\n",
    "                    else:       # Si el libro no está en el carrito:\n",
    "                        carrito[compra] = cantidad  # Añade el libro al diccionario \"carrito\" como una nueva clave, y le da la cantidad introducida como su valor.\n",
    "                        print(f\"Se han añadido {cantidad} ejemplares de '{compra}' al carrito.\")\n",
    "                    inventario[compra] -= cantidad  # Resta la cantidad que ha pedido el usuario al inventario\n",
    "                else:\n",
    "                    print(\"En este momento no tenemos la cantidad suficiente\")\n",
    "                else:\n",
    "                print(\"El artículo solicitado no está en el inventario\")\n",
    "                compra = input(\"¿Quiere algún ejemplar más? Si no, accione 'fin' para terminar:\").strip()   \n",
    "                if compra.lower() == 'fin':\n",
    "                    break               \n",
    "    print(\"\\n--- Carrito de Compra ---\")    # El \\n al principio crea una nueva línea para separar visualmente el carrito del resto de la interacción\n",
    "    total_compra = 0\n",
    "    if len(carrito) > 0:  # Si la longitud del carrito es mayor que cero, hemos incluido algún libro.\n",
    "        for libro in carrito:  # Itera sobre los elementos del diccionario carrito. En cada iteración, la clave (el nombre del libro) se asigna a la variable libro, y el valor (la cantidad) se asigna a la variable cantidad.\n",
    "            for producto in inventario:\n",
    "                if libro == (producto [\"nombre\"]).lower():\n",
    "                    total_compra = sum(producto[\"precio\"] * carrito [libro])\n",
    "        \n",
    "    else:\n",
    "        print(\"El carrito está vacío.\") # Mensaje informativo: No se ha añadido ningún libro {}\n",
    "    return f\"La compra ha sido satisfactoria. El importe total es {total_compra:.2f} euros.\" # Devuelve el diccionario carrito con los libros que el usuario ha seleccionado y las cantidades existentes y el importe total de la compra.\n",
    "\n",
    " "
   ]
  },
  {
   "cell_type": "code",
   "execution_count": 50,
   "id": "37908fe4",
   "metadata": {},
   "outputs": [
    {
     "name": "stdout",
     "output_type": "stream",
     "text": [
      "Nombre: cómo llegar joven a viejo, Precio: 19.85 €, Cantidad: 25\n",
      "Nombre: the secret of secrets, Precio: 34.9 €, Cantidad: 50\n",
      "Nombre: inquebrantable, Precio: 19.85 €, Cantidad: 18\n",
      "Nombre: the secret of secrets, Precio: 34.9 €, Cantidad: 50\n",
      "Nombre: la última carta, Precio: 18.9 €, Cantidad: 35\n",
      "Nombre: solas en el silencio, Precio: 19.85 €, Cantidad: 250\n",
      "Nombre: el plan maestro, Precio: 21.75 €, Cantidad: 175\n"
     ]
    }
   ],
   "source": [
    "realizar_compra()"
   ]
  },
  {
   "cell_type": "code",
   "execution_count": null,
   "id": "cad6990b",
   "metadata": {},
   "outputs": [],
   "source": [
    "def realizar_compra():         \n",
    "    carrito = {} # Creamos un carrito vacío\n",
    "    consultar_inventario()\n",
    "    \n",
    "    while True:\n",
    "        compra = input(\"Introduzca el título del libro que quiere comprar o 'fin' para terminar: \").lower().strip()\n",
    "        if compra == \"fin\":\n",
    "            break\n",
    "        for articulo in inventario:\n",
    "            if articulo[\"nombre\"] == compra:\n",
    "                try:\n",
    "                    numero_ejemplares = int(input(\"Introduzca el número de ejemplares\"))\n",
    "                    if numero_ejemplares >= articulo [\"cantidad\"]:\n",
    "                        print(\"No tenemos ejemplares suficientes en nuestro stock\")\n",
    "                        continue # Te manda al principio del bucle\n",
    "                    elif numero_ejemplares <= 0:\n",
    "                        print(\"Esa cantidad no es válida.\")\n",
    "                    elif numero_ejemplares <= articulo [\"cantidad\"]:\n",
    "                        carrito[articulo[\"nombre\"]] = numero_ejemplares ## Queremos restar la cantidad de libros solicitados al iventario\n",
    "                        articulo[\"cantidad\"] -= numero_ejemplares                             #Entonces el inventario tiene X cantidad de libros\n",
    "                        print(\"La compra se ha añadido al carrito.\")                                                #Que hacemos?\n",
    "                except ValueError:              #A esa cantidad del inventario le restamos la cantidad de libros que nos piden\n",
    "                    print(\"Introduzca un número correcto, sin decimales\")\n",
    "                    continue # Aquí nos quedamos\n",
    "        coste_total = 0.0\n",
    "        for libro_carrito, cantidad in carrito.items():\n",
    "                for numero_ejemplares in inventario:\n",
    "                    if articulo[\"nombre\"].lower == numero_ejemplares in carrito:\n",
    "                        articulo[\"nombre\"] = articulo in inventario[\"precio\"]\n",
    "                    coste_total = (articulo[\"precio\"] * carrito [articulo])\n",
    "                    break\n",
    "                \n",
    "\n"
   ]
  },
  {
   "cell_type": "code",
   "execution_count": 66,
   "id": "0b6be530",
   "metadata": {},
   "outputs": [
    {
     "name": "stdout",
     "output_type": "stream",
     "text": [
      "Nombre: cómo llegar joven a viejo, Precio: 19.85 €, Cantidad: 25\n",
      "Nombre: the secret of secrets, Precio: 34.9 €, Cantidad: 50\n",
      "Nombre: inquebrantable, Precio: 19.85 €, Cantidad: 2\n",
      "Nombre: the secret of secrets, Precio: 34.9 €, Cantidad: 50\n",
      "Nombre: la última carta, Precio: 18.9 €, Cantidad: 35\n",
      "Nombre: solas en el silencio, Precio: 19.85 €, Cantidad: 236\n",
      "Nombre: el plan maestro, Precio: 21.75 €, Cantidad: 162\n",
      "Esa cantidad no es válida.\n",
      "La compra se ha añadido al carrito.\n"
     ]
    },
    {
     "ename": "TypeError",
     "evalue": "unhashable type: 'dict'",
     "output_type": "error",
     "traceback": [
      "\u001b[1;31m---------------------------------------------------------------------------\u001b[0m",
      "\u001b[1;31mTypeError\u001b[0m                                 Traceback (most recent call last)",
      "Cell \u001b[1;32mIn[66], line 1\u001b[0m\n\u001b[1;32m----> 1\u001b[0m realizar_compra()\n",
      "Cell \u001b[1;32mIn[65], line 30\u001b[0m, in \u001b[0;36mrealizar_compra\u001b[1;34m()\u001b[0m\n\u001b[0;32m     28\u001b[0m \u001b[38;5;28;01mif\u001b[39;00m articulo[\u001b[38;5;124m\"\u001b[39m\u001b[38;5;124mnombre\u001b[39m\u001b[38;5;124m\"\u001b[39m]\u001b[38;5;241m.\u001b[39mlower \u001b[38;5;241m==\u001b[39m numero_ejemplares \u001b[38;5;129;01min\u001b[39;00m carrito:\n\u001b[0;32m     29\u001b[0m     articulo[\u001b[38;5;124m\"\u001b[39m\u001b[38;5;124mnombre\u001b[39m\u001b[38;5;124m\"\u001b[39m] \u001b[38;5;241m=\u001b[39m articulo \u001b[38;5;129;01min\u001b[39;00m inventario[\u001b[38;5;124m\"\u001b[39m\u001b[38;5;124mprecio\u001b[39m\u001b[38;5;124m\"\u001b[39m]\n\u001b[1;32m---> 30\u001b[0m coste_total \u001b[38;5;241m=\u001b[39m(articulo[\u001b[38;5;124m\"\u001b[39m\u001b[38;5;124mprecio\u001b[39m\u001b[38;5;124m\"\u001b[39m] \u001b[38;5;241m*\u001b[39m carrito [articulo])\n\u001b[0;32m     31\u001b[0m \u001b[38;5;28;01mbreak\u001b[39;00m\n",
      "\u001b[1;31mTypeError\u001b[0m: unhashable type: 'dict'"
     ]
    }
   ],
   "source": [
    "realizar_compra()"
   ]
  }
 ],
 "metadata": {
  "kernelspec": {
   "display_name": "base",
   "language": "python",
   "name": "python3"
  },
  "language_info": {
   "codemirror_mode": {
    "name": "ipython",
    "version": 3
   },
   "file_extension": ".py",
   "mimetype": "text/x-python",
   "name": "python",
   "nbconvert_exporter": "python",
   "pygments_lexer": "ipython3",
   "version": "3.12.7"
  }
 },
 "nbformat": 4,
 "nbformat_minor": 5
}
